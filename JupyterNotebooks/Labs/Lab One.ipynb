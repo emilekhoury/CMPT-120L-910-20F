{
 "metadata": {
  "language_info": {
   "codemirror_mode": {
    "name": "ipython",
    "version": 3
   },
   "file_extension": ".py",
   "mimetype": "text/x-python",
   "name": "python",
   "nbconvert_exporter": "python",
   "pygments_lexer": "ipython3",
   "version": "3.8.5-final"
  },
  "orig_nbformat": 2,
  "kernelspec": {
   "name": "python_defaultSpec_1599517246729",
   "display_name": "Python 3.6.10 64-bit"
  }
 },
 "nbformat": 4,
 "nbformat_minor": 2,
 "cells": [
  {
   "cell_type": "markdown",
   "metadata": {},
   "source": [
    "# Lab One\n",
    "---\n",
    "\n",
    "Ok for this lab we're going to reiterate a lot of the things that we went over in class.\n",
    "\n",
    "Our Goals are:\n",
    "- Defining variables\n",
    "- Using math\n",
    "- Manipulating variables\n",
    "- Changing data types\n",
    "- Playing with lists"
   ]
  },
  {
   "cell_type": "code",
   "execution_count": 15,
   "metadata": {
    "tags": []
   },
   "outputs": [
    {
     "output_type": "stream",
     "name": "stdout",
     "text": "4\nmanager\nFalse\n22.3\n"
    }
   ],
   "source": [
    "# Define 4 variables, one of each type listed: [Integer, String, Boolean, Float]. Print all 4.\n",
    " \n",
    " #integer\n",
    "inventory_count= 4\n",
    "\n",
    "#string\n",
    "title= \"manager\"\n",
    "\n",
    "#boolean\n",
    "has_car= False\n",
    "\n",
    "#float/double\n",
    "size= 22.3\n",
    "\n",
    "print(inventory_count)\n",
    "print(title)\n",
    "print(has_car)\n",
    "print(size)\n",
    "\n",
    "\n"
   ]
  },
  {
   "cell_type": "code",
   "execution_count": 16,
   "metadata": {
    "tags": []
   },
   "outputs": [
    {
     "output_type": "stream",
     "name": "stdout",
     "text": "17\n3\n70\n1.4285714285714286\n3\n"
    }
   ],
   "source": [
    "# With whatever variables you'd like demonstrate the following: [Addition, Subtraction, Division, Multiplication, Modulo]. Print all 5.\n",
    "\n",
    "num1= 10\n",
    "num2= 7\n",
    "\n",
    "print(num1+num2)\n",
    "print(num1-num2)\n",
    "print(num1*num2)\n",
    "print(num1/num2)\n",
    "print(num1%num2)"
   ]
  },
  {
   "cell_type": "code",
   "execution_count": 17,
   "metadata": {
    "tags": []
   },
   "outputs": [
    {
     "output_type": "stream",
     "name": "stdout",
     "text": "57\n"
    }
   ],
   "source": [
    "# Using 2 variables and addition print the number 57\n",
    "\n",
    "var1=50\n",
    "var2=7\n",
    "\n",
    "print(var1+var2)"
   ]
  },
  {
   "cell_type": "code",
   "execution_count": 36,
   "metadata": {
    "tags": []
   },
   "outputs": [
    {
     "output_type": "stream",
     "name": "stdout",
     "text": "<class 'int'>\nnumber_into_string <class 'str'>\n<class 'str'>\nstring_into_number <class 'int'>\n<class 'str'>\nstring_into_float <class 'float'>\n<class 'int'>\nnumber_into_boolean <class 'bool'>\n"
    }
   ],
   "source": [
    "# Change this variable to a string and print\n",
    "number_into_string = 37\n",
    "print(type(number_into_string))\n",
    "number_into_string = str(number_into_string)\n",
    "print(\"number_into_string\", type(number_into_string))\n",
    "# Change this variable to a integer and print\n",
    "string_into_number = '10'\n",
    "print(type(string_into_number))\n",
    "string_into_number = int(string_into_number)\n",
    "print(\"string_into_number\", type(string_into_number))\n",
    "# Change this variable to a float and print\n",
    "string_into_float = '299.99'\n",
    "print(type(string_into_float))\n",
    "string_into_float = float(string_into_float)\n",
    "print(\"string_into_float\", type(string_into_float))\n",
    "# Change this variable to a boolean and print\n",
    "number_into_boolean = 37\n",
    "print(type(number_into_boolean))\n",
    "number_into_boolean = bool(number_into_boolean)\n",
    "print(\"number_into_boolean\",type(number_into_boolean))"
   ]
  },
  {
   "cell_type": "code",
   "execution_count": 45,
   "metadata": {
    "tags": []
   },
   "outputs": [
    {
     "output_type": "stream",
     "name": "stdout",
     "text": "['diamond', 'gold', 'silver', 'platinum']\n4\n"
    }
   ],
   "source": [
    "# Make me a list of any type\n",
    "\n",
    "\n",
    "array = [\"diamond\", \"gold\", \"silver\", \"platinum\"]\n",
    "\n",
    "print(array)\n",
    "count = len(array)\n",
    "print(count)\n",
    "\n"
   ]
  },
  {
   "cell_type": "markdown",
   "metadata": {},
   "source": []
  }
 ]
}