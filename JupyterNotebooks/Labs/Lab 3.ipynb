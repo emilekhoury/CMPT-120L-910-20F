{
 "metadata": {
  "language_info": {
   "codemirror_mode": {
    "name": "ipython",
    "version": 3
   },
   "file_extension": ".py",
   "mimetype": "text/x-python",
   "name": "python",
   "nbconvert_exporter": "python",
   "pygments_lexer": "ipython3",
   "version": "3.8.5-final"
  },
  "orig_nbformat": 2,
  "kernelspec": {
   "name": "Python 3.8.5 64-bit",
   "display_name": "Python 3.8.5 64-bit",
   "metadata": {
    "interpreter": {
     "hash": "aee8b7b246df8f9039afb4144a1f6fd8d2ca17a180786b69acc140d282b71a49"
    }
   }
  }
 },
 "nbformat": 4,
 "nbformat_minor": 2,
 "cells": [
  {
   "source": [
    "# Lab Three\n",
    "---\n",
    "\n",
    "For this lab we're going to be making and using a bunch of functions. \n",
    "\n",
    "Our Goals are:\n",
    "- Searching our Documentation\n",
    "- Using built in functions\n",
    "- Making our own functions\n",
    "- Combining functions\n",
    "- Structuring solutions"
   ],
   "cell_type": "markdown",
   "metadata": {}
  },
  {
   "cell_type": "code",
   "execution_count": 1,
   "metadata": {},
   "outputs": [],
   "source": [
    "# For the following built in functions we didn't touch on them in class. I want you to look for them in the python documentation and implement them."
   ]
  },
  {
   "cell_type": "code",
   "execution_count": 2,
   "metadata": {
    "tags": []
   },
   "outputs": [
    {
     "output_type": "stream",
     "name": "stdout",
     "text": "hEy THerE hOWs It gOing\n"
    }
   ],
   "source": [
    "# I want you to find a built in function to SWAP CASE on a string. Print it.\n",
    "\n",
    "# For example the string \"HeY thERe HowS iT GoING\" turns into \"hEy THerE hOWs It gOing\"\n",
    "sample_string = \"HeY thERe HowS iT GoING\"\n",
    "\n",
    "print(sample_string.swapcase())"
   ]
  },
  {
   "cell_type": "code",
   "execution_count": 40,
   "metadata": {
    "tags": []
   },
   "outputs": [
    {
     "output_type": "stream",
     "name": "stdout",
     "text": "----Hey There----\n"
    }
   ],
   "source": [
    "# I want you to find a built in function to CENTER a string and pad the sides with 4 dashes(-) a side. Print it.\n",
    "\n",
    "# For example the string \"Hey There\" becomes \"----Hey There----\"\n",
    "\n",
    "sample_string = \"Hey There\"\n",
    "print(sample_string.center(17, \"-\"))"
   ]
  },
  {
   "cell_type": "code",
   "execution_count": 10,
   "metadata": {
    "tags": []
   },
   "outputs": [
    {
     "output_type": "stream",
     "name": "stdout",
     "text": "('abcdefg', '.', 'hijklmnop')\n"
    }
   ],
   "source": [
    "# I want you to find a built in function to PARTITION a string. Print it.\n",
    "\n",
    "# For example the string \"abcdefg.hijklmnop\" would come out to be [\"abcdefg\",\".\",\"hijklmnop\"]\n",
    "\n",
    "sample_string = \"abcdefg.hijklmnop\"\n",
    "x=sample_string.partition(\".\")\n",
    "print(x)\n",
    "\n"
   ]
  },
  {
   "cell_type": "code",
   "execution_count": 22,
   "metadata": {
    "tags": []
   },
   "outputs": [
    {
     "output_type": "stream",
     "name": "stdout",
     "text": "8\n75\n"
    }
   ],
   "source": [
    "# I want you to write a function that will take in a number and raise it to the power given. \n",
    "\n",
    "# For example if given the numbers 2 and 3. The math that the function should do is 2^3 and should print out or return 8. Print the output.\n",
    "def powerfunc(pf):\n",
    "    print(pf)\n",
    "\n",
    "powerfunc(2**3)"
   ]
  },
  {
   "cell_type": "code",
   "execution_count": 23,
   "metadata": {
    "tags": []
   },
   "outputs": [
    {
     "output_type": "stream",
     "name": "stdout",
     "text": "3\n"
    }
   ],
   "source": [
    "# I want you to write a function that will take in a list and see how many times a given number is in the list. \n",
    "\n",
    "# For example if the array given is [2,3,5,2,3,6,7,8,2] and the number given is 2 the function should print out or return 3. Print the output.\n",
    "arr=[2,3,5,2,3,6,7,8,2]\n",
    "\n",
    "def arrcount(ac, gn):\n",
    "    count=0\n",
    "    for number in ac:\n",
    "        if number == gn:\n",
    "            count+=1\n",
    "    print(count)\n",
    "    \n",
    "arrcount(arr, 2)                \n",
    "\n"
   ]
  },
  {
   "cell_type": "code",
   "execution_count": 27,
   "metadata": {
    "tags": []
   },
   "outputs": [
    {
     "output_type": "stream",
     "name": "stdout",
     "text": "1.0\n"
    }
   ],
   "source": [
    "# Use the functions given to create a slope function. The function should be named slope and have 4 parameters.\n",
    "\n",
    "# If you don't remember the slope formula is (y2 - y1) / (x2 - x1) If this doesn't make sense look up `Slope Formula` on google.\n",
    "\n",
    "def division(x, y):\n",
    "    return x / y\n",
    "\n",
    "def subtraction(x, y):\n",
    "    return x - y\n",
    "\n",
    "def slope(y1, y2, x1, x2):\n",
    "    yminus = subtraction(y2, y1)\n",
    "    xminus = subtraction(x2, x1)\n",
    "    result = division(yminus, xminus)\n",
    "    return result\n",
    "\n",
    "x = slope(2, 3, 4, 5)\n",
    "print(x)\n",
    "\n"
   ]
  },
  {
   "cell_type": "code",
   "execution_count": 28,
   "metadata": {
    "tags": []
   },
   "outputs": [
    {
     "output_type": "stream",
     "name": "stdout",
     "text": "4292\n"
    }
   ],
   "source": [
    "# Use the functions given to create a distance function. The function should be named function and have 4 parameters.\n",
    "\n",
    "# HINT: You'll need a built in function here too. You'll also be able to use function written earlier in the notebook as long as you've run those cells.\n",
    "\n",
    "# If you don't remember the distance formula is the square root of the following ((x2 - x1)^2 + (y2 - y1)^2). If this doesn't make sense look up `Distance Formula` on google.\n",
    "\n",
    "import math\n",
    "\n",
    "def addition(x, y):\n",
    "    return x + y\n",
    "\n",
    "def distance(x2, x1, y2, y1):\n",
    "    xminus= (x2 - x1)**2\n",
    "    yminus= (y2-y1)**2\n",
    "    answer = addition(xminus, yminus)\n",
    "    return answer\n",
    "x= distance(68, 12, 36, 2)    \n",
    "print(x)\n",
    "\n",
    "\n",
    "\n"
   ]
  },
  {
   "cell_type": "code",
   "execution_count": null,
   "metadata": {},
   "outputs": [],
   "source": []
  }
 ]
}